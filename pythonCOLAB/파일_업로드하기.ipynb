{
  "nbformat": 4,
  "nbformat_minor": 0,
  "metadata": {
    "colab": {
      "name": "파일_업로드하기",
      "provenance": [],
      "collapsed_sections": [],
      "toc_visible": true,
      "authorship_tag": "ABX9TyPT1mMAX3YUPPyVhl15tadu"
    },
    "kernelspec": {
      "name": "python3",
      "display_name": "Python 3"
    }
  },
  "cells": [
    {
      "cell_type": "markdown",
      "metadata": {
        "id": "_kZAAhNMQrSv",
        "colab_type": "text"
      },
      "source": [
        "# 1. 파일 업로드하는 방법"
      ]
    },
    {
      "cell_type": "markdown",
      "metadata": {
        "id": "kDs3yDrIQ3EA",
        "colab_type": "text"
      },
      "source": [
        "### 1-1. 직접 업로드 하기"
      ]
    },
    {
      "cell_type": "markdown",
      "metadata": {
        "id": "AcpuRn5cRXOq",
        "colab_type": "text"
      },
      "source": [
        "방법 1"
      ]
    },
    {
      "cell_type": "code",
      "metadata": {
        "id": "D0fFzcvNQ8TG",
        "colab_type": "code",
        "colab": {}
      },
      "source": [
        "from google.colab import files\n",
        "myfile = files.upload()"
      ],
      "execution_count": 0,
      "outputs": []
    },
    {
      "cell_type": "markdown",
      "metadata": {
        "id": "ocmYJtO2RzPB",
        "colab_type": "text"
      },
      "source": [
        "방법 2"
      ]
    },
    {
      "cell_type": "code",
      "metadata": {
        "id": "p8i1AUt7ROjC",
        "colab_type": "code",
        "colab": {}
      },
      "source": [
        "import io\n",
        "import pandas as pd"
      ],
      "execution_count": 0,
      "outputs": []
    },
    {
      "cell_type": "code",
      "metadata": {
        "id": "dM86qStBR4YO",
        "colab_type": "code",
        "colab": {}
      },
      "source": [
        "data = pd.read_csv(io.BytesIO(myfile['파일명']))"
      ],
      "execution_count": 0,
      "outputs": []
    },
    {
      "cell_type": "code",
      "metadata": {
        "id": "BKlDzuInR7zB",
        "colab_type": "code",
        "colab": {}
      },
      "source": [
        "data.head()"
      ],
      "execution_count": 0,
      "outputs": []
    },
    {
      "cell_type": "markdown",
      "metadata": {
        "id": "_WpqkTIoSLqZ",
        "colab_type": "text"
      },
      "source": [
        "### 1-2. 드라이브에서 가져오기\n",
        "*추천"
      ]
    },
    {
      "cell_type": "code",
      "metadata": {
        "id": "kXL1LTP5SXx-",
        "colab_type": "code",
        "colab": {}
      },
      "source": [
        "from google.colab import drive\n",
        "drive.mount('/이후의 파일명/drive')"
      ],
      "execution_count": 0,
      "outputs": []
    },
    {
      "cell_type": "markdown",
      "metadata": {
        "id": "vU3lfBiZSkeG",
        "colab_type": "text"
      },
      "source": [
        "+) URL 클릭 – 내 계정 클릭 – 코드 복사 – Enter your authorization code에 붙여넣기 – 왼쪽 드라이브에서 원하는 파일 마우스 우클릭 – 경로복사"
      ]
    },
    {
      "cell_type": "code",
      "metadata": {
        "id": "k01Y0HtzSw3e",
        "colab_type": "code",
        "colab": {}
      },
      "source": [
        "data = pd.read_csv(파일명)"
      ],
      "execution_count": 0,
      "outputs": []
    },
    {
      "cell_type": "code",
      "metadata": {
        "id": "c4UNhEuES5SZ",
        "colab_type": "code",
        "colab": {}
      },
      "source": [
        "data.head()"
      ],
      "execution_count": 0,
      "outputs": []
    },
    {
      "cell_type": "markdown",
      "metadata": {
        "id": "-MdVx1C0Tnz5",
        "colab_type": "text"
      },
      "source": [
        "# 2. 기타 업로드 방법"
      ]
    },
    {
      "cell_type": "markdown",
      "metadata": {
        "id": "gEO_n8uATwZl",
        "colab_type": "text"
      },
      "source": [
        "### 2-1. 이미지 업로드 하기"
      ]
    },
    {
      "cell_type": "code",
      "metadata": {
        "id": "qTyNVmkyUUiV",
        "colab_type": "code",
        "colab": {}
      },
      "source": [
        "from IPython.display import Image"
      ],
      "execution_count": 0,
      "outputs": []
    },
    {
      "cell_type": "code",
      "metadata": {
        "id": "aZzJedd8UXDG",
        "colab_type": "code",
        "colab": {}
      },
      "source": [
        "lmage('이미지 주소 복사')"
      ],
      "execution_count": 0,
      "outputs": []
    },
    {
      "cell_type": "markdown",
      "metadata": {
        "id": "F1BTE05RUZaN",
        "colab_type": "text"
      },
      "source": [
        "### 2-2. 유투브 동영상 업로드 하기"
      ]
    },
    {
      "cell_type": "code",
      "metadata": {
        "id": "j1blFArsUd-9",
        "colab_type": "code",
        "colab": {}
      },
      "source": [
        "from IPython.display import YouTubeVideo"
      ],
      "execution_count": 0,
      "outputs": []
    },
    {
      "cell_type": "code",
      "metadata": {
        "id": "6vyV3-acUgCu",
        "colab_type": "code",
        "colab": {}
      },
      "source": [
        "YouTubeVideo('유투브 키: URL에서 = 다음의 내용', 가로길이, 세로길이)"
      ],
      "execution_count": 0,
      "outputs": []
    },
    {
      "cell_type": "markdown",
      "metadata": {
        "id": "4VFF05R8UkTl",
        "colab_type": "text"
      },
      "source": [
        "### 2-3. 웹사이트 업로드 하기"
      ]
    },
    {
      "cell_type": "code",
      "metadata": {
        "id": "EHuC3tTqUoVc",
        "colab_type": "code",
        "colab": {}
      },
      "source": [
        "from IPython.display import HTML"
      ],
      "execution_count": 0,
      "outputs": []
    },
    {
      "cell_type": "code",
      "metadata": {
        "id": "8a9ctQSZUwnH",
        "colab_type": "code",
        "colab": {}
      },
      "source": [
        "HTML('웹사이트 URL')"
      ],
      "execution_count": 0,
      "outputs": []
    }
  ]
}
