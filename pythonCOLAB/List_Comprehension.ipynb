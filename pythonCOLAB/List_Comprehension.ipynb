{
  "nbformat": 4,
  "nbformat_minor": 0,
  "metadata": {
    "colab": {
      "name": "List_Comprehension.ipynb",
      "provenance": [],
      "collapsed_sections": [],
      "authorship_tag": "ABX9TyOkU8tw9wCCJrBE/Jk8wldw"
    },
    "kernelspec": {
      "name": "python3",
      "display_name": "Python 3"
    }
  },
  "cells": [
    {
      "cell_type": "markdown",
      "metadata": {
        "id": "HE7-l4jh52AJ",
        "colab_type": "text"
      },
      "source": [
        "# 1. List Comprehension"
      ]
    },
    {
      "cell_type": "markdown",
      "metadata": {
        "id": "kI3hD5Rza3PM",
        "colab_type": "text"
      },
      "source": [
        "## 1-1. 조건 필터"
      ]
    },
    {
      "cell_type": "code",
      "metadata": {
        "id": "TsXyPSZTbCc_",
        "colab_type": "code",
        "colab": {}
      },
      "source": [
        "mylist = [1, 2, 3, 4, 5, 10, 25]"
      ],
      "execution_count": 0,
      "outputs": []
    },
    {
      "cell_type": "markdown",
      "metadata": {
        "id": "AYq83t8bbzL7",
        "colab_type": "text"
      },
      "source": [
        "mylist 값들 중 짝수만 선택하여 새로운 even list를 만들어보기\n",
        "\n",
        "    변수명1 = [변수명2 for 변수명2 in 리스트 if 조건절]\n",
        "   \n",
        "    *설명*\n",
        "    [변수명2 // for 변수명2 in 리스트 // if 조건절]\n",
        "    변수명2 -> 변수명2를 설정한다.\n",
        "    for 변수명2 in 리스트 -> 리스트 값들 중에\n",
        "    if 조건절 -> 조건에 성립되는 값들만 변수명 2에 대입한다."
      ]
    },
    {
      "cell_type": "code",
      "metadata": {
        "id": "FYpLPhIqcDru",
        "colab_type": "code",
        "colab": {}
      },
      "source": [
        "even = [B for B in mylist if B % 2 == 0]"
      ],
      "execution_count": 0,
      "outputs": []
    },
    {
      "cell_type": "code",
      "metadata": {
        "id": "v06U9m2PcWg2",
        "colab_type": "code",
        "outputId": "d13d5cdc-03ec-4066-a8d5-429ba6ff8e3b",
        "colab": {
          "base_uri": "https://localhost:8080/",
          "height": 36
        }
      },
      "source": [
        "even"
      ],
      "execution_count": 0,
      "outputs": [
        {
          "output_type": "execute_result",
          "data": {
            "text/plain": [
              "[2, 4, 10]"
            ]
          },
          "metadata": {
            "tags": []
          },
          "execution_count": 12
        }
      ]
    },
    {
      "cell_type": "markdown",
      "metadata": {
        "id": "WEBWDU01cvGG",
        "colab_type": "text"
      },
      "source": [
        "## 1-2. 변수 값 가공"
      ]
    },
    {
      "cell_type": "markdown",
      "metadata": {
        "id": "KmVl_jHCghfe",
        "colab_type": "text"
      },
      "source": [
        "mylist 의 변수 값에 2를 곱하여 새로운 even2 list를 만들어보기"
      ]
    },
    {
      "cell_type": "code",
      "metadata": {
        "id": "37pY0Dvsgj-u",
        "colab_type": "code",
        "colab": {}
      },
      "source": [
        "even2 = [B * 2 for B in mylist]"
      ],
      "execution_count": 0,
      "outputs": []
    },
    {
      "cell_type": "code",
      "metadata": {
        "id": "Zyb36xp7gsG1",
        "colab_type": "code",
        "outputId": "e8d5de08-ee32-4242-9ba8-10dd6511e059",
        "colab": {
          "base_uri": "https://localhost:8080/",
          "height": 36
        }
      },
      "source": [
        "even2"
      ],
      "execution_count": 0,
      "outputs": [
        {
          "output_type": "execute_result",
          "data": {
            "text/plain": [
              "[2, 4, 6, 8, 10, 20, 50]"
            ]
          },
          "metadata": {
            "tags": []
          },
          "execution_count": 17
        }
      ]
    }
  ]
}