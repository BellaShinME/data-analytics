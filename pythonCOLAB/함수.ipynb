{
  "nbformat": 4,
  "nbformat_minor": 0,
  "metadata": {
    "colab": {
      "name": "함수.ipynb",
      "provenance": [],
      "collapsed_sections": [
        "cgiECB9nkIQ8",
        "Rbx4nKJTpfdq"
      ],
      "authorship_tag": "ABX9TyPi6cdH9CVB+Hv7KUTzCl/1"
    },
    "kernelspec": {
      "name": "python3",
      "display_name": "Python 3"
    }
  },
  "cells": [
    {
      "cell_type": "markdown",
      "metadata": {
        "id": "cgiECB9nkIQ8",
        "colab_type": "text"
      },
      "source": [
        "# 1. def (define): 함수를 위한 정의"
      ]
    },
    {
      "cell_type": "markdown",
      "metadata": {
        "id": "DiBUB3Alk4Ud",
        "colab_type": "text"
      },
      "source": [
        "**def 함수이름 (parameter1, parameter2, ...):**"
      ]
    },
    {
      "cell_type": "markdown",
      "metadata": {
        "id": "pUvdFbaJrd-T",
        "colab_type": "text"
      },
      "source": [
        "*끝에 콜론 (:) 꼭 넣는다!"
      ]
    },
    {
      "cell_type": "code",
      "metadata": {
        "id": "FktAyldSlRUa",
        "colab_type": "code",
        "colab": {}
      },
      "source": [
        " def my_func():\n",
        "     print('hello')"
      ],
      "execution_count": 0,
      "outputs": []
    },
    {
      "cell_type": "code",
      "metadata": {
        "id": "aDMADCpUlW9L",
        "colab_type": "code",
        "outputId": "4c3c3f8d-7287-4c97-8344-e789e31ab5a3",
        "colab": {
          "base_uri": "https://localhost:8080/",
          "height": 36
        }
      },
      "source": [
        "my_func()"
      ],
      "execution_count": 0,
      "outputs": [
        {
          "output_type": "stream",
          "text": [
            "hello\n"
          ],
          "name": "stdout"
        }
      ]
    },
    {
      "cell_type": "code",
      "metadata": {
        "id": "7WFkPkJvleNL",
        "colab_type": "code",
        "colab": {}
      },
      "source": [
        "def my_func(hello):\n",
        "    print(hello)"
      ],
      "execution_count": 0,
      "outputs": []
    },
    {
      "cell_type": "code",
      "metadata": {
        "id": "DcM5oSlnlki7",
        "colab_type": "code",
        "outputId": "76ac2d83-91ac-4ea9-f829-a294f4bc113c",
        "colab": {
          "base_uri": "https://localhost:8080/",
          "height": 36
        }
      },
      "source": [
        "my_func('안녕')"
      ],
      "execution_count": 0,
      "outputs": [
        {
          "output_type": "stream",
          "text": [
            "안녕\n"
          ],
          "name": "stdout"
        }
      ]
    },
    {
      "cell_type": "markdown",
      "metadata": {
        "id": "y7T9eOOnlxSQ",
        "colab_type": "text"
      },
      "source": [
        "##### -> my_func 함수 실행한다\n",
        "##### -> 변수명(hello)에 '안녕' 대입한다"
      ]
    },
    {
      "cell_type": "markdown",
      "metadata": {
        "id": "Rbx4nKJTpfdq",
        "colab_type": "text"
      },
      "source": [
        "# 2. 리턴"
      ]
    },
    {
      "cell_type": "markdown",
      "metadata": {
        "id": "jUbPE5kepnvn",
        "colab_type": "text"
      },
      "source": [
        "## 2-1. 리턴이 없는 경우"
      ]
    },
    {
      "cell_type": "code",
      "metadata": {
        "id": "T-tXukQNprI5",
        "colab_type": "code",
        "colab": {}
      },
      "source": [
        "def my_func(a, b):\n",
        "       print(a, b)"
      ],
      "execution_count": 0,
      "outputs": []
    },
    {
      "cell_type": "code",
      "metadata": {
        "id": "HlYbaOQppuup",
        "colab_type": "code",
        "outputId": "e43ffa87-da65-4f9b-dccd-fc0bff2ddbd5",
        "colab": {
          "base_uri": "https://localhost:8080/",
          "height": 36
        }
      },
      "source": [
        "my_func(1, 2)"
      ],
      "execution_count": 0,
      "outputs": [
        {
          "output_type": "stream",
          "text": [
            "1 2\n"
          ],
          "name": "stdout"
        }
      ]
    },
    {
      "cell_type": "markdown",
      "metadata": {
        "id": "aJ-Z70I4pxHc",
        "colab_type": "text"
      },
      "source": [
        "## 2-2. 리턴이 있는 경우"
      ]
    },
    {
      "cell_type": "code",
      "metadata": {
        "id": "BjW0gEHtp1-A",
        "colab_type": "code",
        "colab": {}
      },
      "source": [
        "def my_func(a, b):\n",
        "    r = a + b\n",
        "    return r"
      ],
      "execution_count": 0,
      "outputs": []
    },
    {
      "cell_type": "code",
      "metadata": {
        "id": "IiUjn0WKqou8",
        "colab_type": "code",
        "outputId": "798e5857-1251-462b-cd6d-bc14cc154ddc",
        "colab": {
          "base_uri": "https://localhost:8080/",
          "height": 36
        }
      },
      "source": [
        "my_func(1,2)"
      ],
      "execution_count": 0,
      "outputs": [
        {
          "output_type": "execute_result",
          "data": {
            "text/plain": [
              "3"
            ]
          },
          "metadata": {
            "tags": []
          },
          "execution_count": 26
        }
      ]
    },
    {
      "cell_type": "markdown",
      "metadata": {
        "id": "T-zg-lt5rBOg",
        "colab_type": "text"
      },
      "source": [
        "변수(result)에 함수에 대한 리턴 값을 담는다\n",
        "\n"
      ]
    },
    {
      "cell_type": "code",
      "metadata": {
        "id": "D7fIgZ4xq5fp",
        "colab_type": "code",
        "colab": {}
      },
      "source": [
        "result = my_func (1,2)"
      ],
      "execution_count": 0,
      "outputs": []
    },
    {
      "cell_type": "code",
      "metadata": {
        "id": "hdkr81o4q-hG",
        "colab_type": "code",
        "outputId": "3063a2ed-2cbf-42da-b7a6-3d2f536c2e10",
        "colab": {
          "base_uri": "https://localhost:8080/",
          "height": 36
        }
      },
      "source": [
        "result"
      ],
      "execution_count": 0,
      "outputs": [
        {
          "output_type": "execute_result",
          "data": {
            "text/plain": [
              "3"
            ]
          },
          "metadata": {
            "tags": []
          },
          "execution_count": 28
        }
      ]
    },
    {
      "cell_type": "markdown",
      "metadata": {
        "id": "B1iFZbzosRgL",
        "colab_type": "text"
      },
      "source": [
        "리턴이 있는 경우는 변수에 값을 다시 할당 할 수 있다"
      ]
    },
    {
      "cell_type": "code",
      "metadata": {
        "id": "r2qS-kY4sXS2",
        "colab_type": "code",
        "colab": {}
      },
      "source": [
        "ret = my_func(1, 2)"
      ],
      "execution_count": 0,
      "outputs": []
    },
    {
      "cell_type": "code",
      "metadata": {
        "id": "-sZT0vWosccb",
        "colab_type": "code",
        "outputId": "167ce11f-4cd1-425e-8c4b-0618ee6d5bbc",
        "colab": {
          "base_uri": "https://localhost:8080/",
          "height": 36
        }
      },
      "source": [
        "print(ret)"
      ],
      "execution_count": 0,
      "outputs": [
        {
          "output_type": "stream",
          "text": [
            "3\n"
          ],
          "name": "stdout"
        }
      ]
    },
    {
      "cell_type": "code",
      "metadata": {
        "id": "F8mD3eiUsc9d",
        "colab_type": "code",
        "outputId": "462a0e85-9e46-41ae-9a6f-aa4d33a62870",
        "colab": {
          "base_uri": "https://localhost:8080/",
          "height": 36
        }
      },
      "source": [
        "print(ret + 10)"
      ],
      "execution_count": 0,
      "outputs": [
        {
          "output_type": "stream",
          "text": [
            "13\n"
          ],
          "name": "stdout"
        }
      ]
    },
    {
      "cell_type": "markdown",
      "metadata": {
        "id": "BgH5TSZSs-hk",
        "colab_type": "text"
      },
      "source": [
        "# 3. parameter의 순서에 따라 출력값이 달라진다"
      ]
    },
    {
      "cell_type": "code",
      "metadata": {
        "id": "WfA69G6ptRiv",
        "colab_type": "code",
        "colab": {}
      },
      "source": [
        "def my_func(a, b, c):\n",
        "    return (a + b) * c"
      ],
      "execution_count": 0,
      "outputs": []
    },
    {
      "cell_type": "code",
      "metadata": {
        "id": "a3Pv8-XUtT_T",
        "colab_type": "code",
        "colab": {}
      },
      "source": [
        "a = 10\n",
        "b = 2\n",
        "c = 1"
      ],
      "execution_count": 0,
      "outputs": []
    },
    {
      "cell_type": "code",
      "metadata": {
        "id": "VR_1cQkZtfjw",
        "colab_type": "code",
        "outputId": "a3354857-3a81-485d-f081-fe7a5c08de59",
        "colab": {
          "base_uri": "https://localhost:8080/",
          "height": 36
        }
      },
      "source": [
        "my_func(a, b, c)"
      ],
      "execution_count": 0,
      "outputs": [
        {
          "output_type": "execute_result",
          "data": {
            "text/plain": [
              "12"
            ]
          },
          "metadata": {
            "tags": []
          },
          "execution_count": 43
        }
      ]
    },
    {
      "cell_type": "code",
      "metadata": {
        "id": "tlDZqW2btquE",
        "colab_type": "code",
        "outputId": "b9f2b217-965b-4d70-8321-a7e133b4cba7",
        "colab": {
          "base_uri": "https://localhost:8080/",
          "height": 36
        }
      },
      "source": [
        "my_func(b, c, a)"
      ],
      "execution_count": 0,
      "outputs": [
        {
          "output_type": "execute_result",
          "data": {
            "text/plain": [
              "30"
            ]
          },
          "metadata": {
            "tags": []
          },
          "execution_count": 44
        }
      ]
    },
    {
      "cell_type": "markdown",
      "metadata": {
        "id": "hEB9yF0nuBgk",
        "colab_type": "text"
      },
      "source": [
        "##### -> ( b + c ) * a\n",
        "##### -> ( 2 + 1 ) * 10"
      ]
    }
  ]
}