{
  "nbformat": 4,
  "nbformat_minor": 0,
  "metadata": {
    "colab": {
      "name": "조건문과_논리연산자_기초.ipynb",
      "provenance": [],
      "collapsed_sections": [],
      "authorship_tag": "ABX9TyN/WuRe15mvlIyzVLIctdZX"
    },
    "kernelspec": {
      "name": "python3",
      "display_name": "Python 3"
    }
  },
  "cells": [
    {
      "cell_type": "markdown",
      "metadata": {
        "id": "gEhAiN5X3y9n",
        "colab_type": "text"
      },
      "source": [
        "# 1. 조건문"
      ]
    },
    {
      "cell_type": "markdown",
      "metadata": {
        "id": "HekIu_xdpSdP",
        "colab_type": "text"
      },
      "source": [
        "## 1-1. IF"
      ]
    },
    {
      "cell_type": "markdown",
      "metadata": {
        "id": "hyHTVEqCq1i9",
        "colab_type": "text"
      },
      "source": [
        "    if 조건문:\n",
        "        print('if 구문 성립')\n",
        "    print('끝')\n"
      ]
    },
    {
      "cell_type": "markdown",
      "metadata": {
        "id": "q91EY61vxs2I",
        "colab_type": "text"
      },
      "source": [
        "-> 들여쓰기가 안 된 print는 조건문과 관계 없이 output 된다"
      ]
    },
    {
      "cell_type": "markdown",
      "metadata": {
        "id": "RwUWjgp-qg5N",
        "colab_type": "text"
      },
      "source": [
        "*끝에 콜론 (:) 꼭 넣기!"
      ]
    },
    {
      "cell_type": "markdown",
      "metadata": {
        "id": "iujAuh3dtfVh",
        "colab_type": "text"
      },
      "source": [
        "조건문이 성립하는 경우에는 output에 **if 구문 성립**이 뜬다\n",
        "\n"
      ]
    },
    {
      "cell_type": "code",
      "metadata": {
        "id": "d7BJiOQ5ttAA",
        "colab_type": "code",
        "outputId": "95e821eb-c436-494a-906e-d02d662ad612",
        "colab": {
          "base_uri": "https://localhost:8080/",
          "height": 55
        }
      },
      "source": [
        "if 1 < 10:\n",
        "    print('if 구문 성립')\n",
        "print('끝')"
      ],
      "execution_count": 0,
      "outputs": [
        {
          "output_type": "stream",
          "text": [
            "if 구문 성립\n",
            "끝\n"
          ],
          "name": "stdout"
        }
      ]
    },
    {
      "cell_type": "markdown",
      "metadata": {
        "id": "1BpTyonotls_",
        "colab_type": "text"
      },
      "source": [
        "조건문이 성립하지 않는 경우에는 output에 **끝**만 뜬다"
      ]
    },
    {
      "cell_type": "code",
      "metadata": {
        "id": "4oMN3OVAuIsL",
        "colab_type": "code",
        "outputId": "e0044dfa-a0f2-4d4a-9867-311ea1c8f34d",
        "colab": {
          "base_uri": "https://localhost:8080/",
          "height": 36
        }
      },
      "source": [
        "if 1 > 10:\n",
        "    print('if 구문 성립')\n",
        "print('끝')"
      ],
      "execution_count": 0,
      "outputs": [
        {
          "output_type": "stream",
          "text": [
            "끝\n"
          ],
          "name": "stdout"
        }
      ]
    },
    {
      "cell_type": "markdown",
      "metadata": {
        "id": "cXhjU6rsuae0",
        "colab_type": "text"
      },
      "source": [
        "## 1-2. ELSE"
      ]
    },
    {
      "cell_type": "markdown",
      "metadata": {
        "id": "PcgWzeQMuc-1",
        "colab_type": "text"
      },
      "source": [
        "    if 조건문:\n",
        "        print('if 구문 성립')\n",
        "    else:\n",
        "        print('구문 성립 안 됨')"
      ]
    },
    {
      "cell_type": "markdown",
      "metadata": {
        "id": "i7zmqtTFup_h",
        "colab_type": "text"
      },
      "source": [
        "*끝에 콜론 (:) 꼭 넣기!"
      ]
    },
    {
      "cell_type": "code",
      "metadata": {
        "id": "LxSSce7rvYZx",
        "colab_type": "code",
        "outputId": "4ee5ea34-13f2-46d3-b615-b70ac34d766c",
        "colab": {
          "base_uri": "https://localhost:8080/",
          "height": 36
        }
      },
      "source": [
        "if  1 > 10:\n",
        "    print('if 구문 성립')\n",
        "else:\n",
        "    print('구문 성립 안 됨')"
      ],
      "execution_count": 0,
      "outputs": [
        {
          "output_type": "stream",
          "text": [
            "구문 성립 안 됨\n"
          ],
          "name": "stdout"
        }
      ]
    },
    {
      "cell_type": "markdown",
      "metadata": {
        "id": "UU5gC0W3vkHh",
        "colab_type": "text"
      },
      "source": [
        "## 1-3. ELIF"
      ]
    },
    {
      "cell_type": "markdown",
      "metadata": {
        "id": "arkx8AIYvxC1",
        "colab_type": "text"
      },
      "source": [
        "    if 조건문1:\n",
        "        print('A')\n",
        "    elif 조건문2:\n",
        "        print('B')\n",
        "    else:\n",
        "        print('C')"
      ]
    },
    {
      "cell_type": "code",
      "metadata": {
        "id": "zU_-vk2cv9e5",
        "colab_type": "code",
        "outputId": "04bd8ce5-aaf9-4664-9d15-639f65af1420",
        "colab": {
          "base_uri": "https://localhost:8080/",
          "height": 36
        }
      },
      "source": [
        "if 1 > 10:\n",
        "    print('if 구문 성립')\n",
        "elif 10 > 1:\n",
        "    print('elif 구문 성립')\n",
        "else:\n",
        "    print('모든 구문 성립 안 됨')"
      ],
      "execution_count": 0,
      "outputs": [
        {
          "output_type": "stream",
          "text": [
            "elif 구문 성립\n"
          ],
          "name": "stdout"
        }
      ]
    },
    {
      "cell_type": "markdown",
      "metadata": {
        "id": "thdgxLvYwcVW",
        "colab_type": "text"
      },
      "source": [
        "복수의 elif 구문이 참일 경우, 처음 성립이 된 구문만 output 된다"
      ]
    },
    {
      "cell_type": "code",
      "metadata": {
        "id": "4ZBadooZwicM",
        "colab_type": "code",
        "outputId": "3980b2f9-cedc-4440-cb29-ef4263bb8fa2",
        "colab": {
          "base_uri": "https://localhost:8080/",
          "height": 36
        }
      },
      "source": [
        "if 1 > 10:\n",
        "    print('if 구문 성립')\n",
        "elif 10 > 1:\n",
        "    print('elif 구문1 성립')\n",
        "elif 10 > 2:\n",
        "    print('elif 구문2 성립')\n",
        "elif 10 > 3:\n",
        "    print('elif 구문3 성립')\n",
        "else:\n",
        "    print('모든 구문 성립 안 됨')"
      ],
      "execution_count": 0,
      "outputs": [
        {
          "output_type": "stream",
          "text": [
            "elif 구문1 성립\n"
          ],
          "name": "stdout"
        }
      ]
    },
    {
      "cell_type": "markdown",
      "metadata": {
        "id": "_SkBUoaP33kT",
        "colab_type": "text"
      },
      "source": [
        "# 2. 논리연산자"
      ]
    },
    {
      "cell_type": "markdown",
      "metadata": {
        "id": "07lFxqMX4I9C",
        "colab_type": "text"
      },
      "source": [
        "## 2-1. and"
      ]
    },
    {
      "cell_type": "markdown",
      "metadata": {
        "id": "fvREySt_3_MW",
        "colab_type": "text"
      },
      "source": [
        "    if (조건문1) and (조건문2):\n",
        "        print('if 구문 모두 성립')\n",
        "    else:\n",
        "        print('모든 구문 성립 안 됨')"
      ]
    },
    {
      "cell_type": "code",
      "metadata": {
        "id": "mWsZj4r8442Y",
        "colab_type": "code",
        "outputId": "6bf26615-26f1-4d76-e16b-ae0cce1e2472",
        "colab": {
          "base_uri": "https://localhost:8080/",
          "height": 36
        }
      },
      "source": [
        "if (1 != 10) and (1 < 10):\n",
        "    print('if 구문 모두 성립')\n",
        "else:\n",
        "    print('모든 구문 성립 안 됨')"
      ],
      "execution_count": 0,
      "outputs": [
        {
          "output_type": "stream",
          "text": [
            "if 구문 모두 성립\n"
          ],
          "name": "stdout"
        }
      ]
    },
    {
      "cell_type": "markdown",
      "metadata": {
        "id": "Y4Gso5CA4MEp",
        "colab_type": "text"
      },
      "source": [
        "## 2-1. or"
      ]
    },
    {
      "cell_type": "markdown",
      "metadata": {
        "id": "J8k-BuTg4cM4",
        "colab_type": "text"
      },
      "source": [
        "    if (조건문1) or (조건문2):\n",
        "        print('if 구문 중 하나라도 성립')\n",
        "    else:\n",
        "        print('모든 구문 성립 안 됨')"
      ]
    },
    {
      "cell_type": "code",
      "metadata": {
        "id": "XQayNQMO5V_0",
        "colab_type": "code",
        "outputId": "66ff3678-7d57-4f81-baa6-6220a03c6a5f",
        "colab": {
          "base_uri": "https://localhost:8080/",
          "height": 36
        }
      },
      "source": [
        "if (1 != 10) or (1 > 10):\n",
        "    print('if 구문 중 하나라도 성립')\n",
        "else:\n",
        "    print('모든 구문 성립 안 됨')"
      ],
      "execution_count": 0,
      "outputs": [
        {
          "output_type": "stream",
          "text": [
            "if 구문 중 하나라도 성립\n"
          ],
          "name": "stdout"
        }
      ]
    }
  ]
}
